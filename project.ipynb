{
  "cells": [
    {
      "cell_type": "markdown",
      "metadata": {
        "id": "4MGTWLXgf2lu"
      },
      "source": [
        "## Biogas plant\n",
        "\n",
        "You want to plan the two-year supply of raw materials for a biogas power plant. Such a plant produces energy by burning biogas, which is obtained from the bacterial fermentation of organic wastes. \n",
        "Specifically, your plant is powered by corn chopping, a residual of agro-industrial operations that you can purchase from 5 local farms. \n",
        "The table below shows the quarterly capacity of each farm for the next two years. Quantities are measured in tons.\n",
        "\n",
        "Farm|T1|T2|T3|T4|T5|T6|T7|T8\n",
        ":-|:-:|:-:|:-:|:-:|:-:|:-:|:-:|:-:\n",
        "1|700|1500|700|0|0|700|1500|0\n",
        "2|1350|0|450|0|1350|0|450|0\n",
        "3|0|1500|1500|0|0|1500|1500|0\n",
        "4|820|1560|820|0|820|1560|820|0\n",
        "5|0|680|1080|0|0|680|1080|0\n",
        "\n",
        "Due to crop rotations and corn harvesting periods, farms are unable to supply material in some quarters. Moreover the types of corn chopping provided are different, each coming with its own unitary purchase price, unitary storage cost and percentage of dry matter. The table below shows a summary of these information.\n",
        "\n",
        "Farm|Purchase price|Storage cost|Dry matter\n",
        ":-|:-:|:-:|:-:\n",
        "1|0.20|0.002|15\n",
        "2|0.18|0.012|28\n",
        "3|0.19|0.007|35\n",
        "4|0.21|0.011|37\n",
        "5|0.23|0.015|42\n",
        "\n",
        "Your biogas plant must operate by burning a mixture of corn choppings with a dry matter percentage between 20% and 40%. Under these conditions, the yield is 421.6 kWh of energy per ton of burned material. The energy produced by the plant is sold on the market at a price of 0.28 $/kWh. \n",
        "\n",
        "Due to state regulations, all biogas plants can produce a maximum of 1950 MWh of energy per quarter. You are allowed to store corn chopping in a silo, whose total capacity is of 500 tons. \n",
        "\n",
        "Plan the supply and inventory of your biogas plant with the goal of maximizing your profits (i.e., revenues minus costs)."
      ]
    },
    {
      "cell_type": "code",
      "execution_count": null,
      "metadata": {},
      "outputs": [],
      "source": [
        "# When using Colab, make sure you run this instruction beforehand\n",
        "!pip install --upgrade cffi==1.15.0\n",
        "import importlib\n",
        "import cffi\n",
        "importlib.reload(cffi)\n",
        "!pip install mip"
      ]
    },
    {
      "cell_type": "code",
      "execution_count": 1,
      "metadata": {},
      "outputs": [],
      "source": [
        "class Matter:\n",
        "    \"\"\"Wrapper for the properties of the matter sold by a specific farm:\n",
        "    - purchase: the purchase price\n",
        "    - storage: the storage cost\n",
        "    - dry_perc: the percentage of dry matter\n",
        "    \"\"\"\n",
        "\n",
        "    def __init__(\n",
        "            self,\n",
        "            purchase: float,\n",
        "            storage: float,\n",
        "            dry_perc: int) -> None:\n",
        "        self.purchase = purchase\n",
        "        self.storage = storage\n",
        "        self.dry_perc = dry_perc\n"
      ]
    },
    {
      "cell_type": "code",
      "execution_count": 2,
      "metadata": {},
      "outputs": [],
      "source": [
        "import mip\n",
        "\n",
        "m = mip.Model()\n",
        "\n",
        "max_production = 1950000    # kWh/quarter\n",
        "energy_per_ton = 421.6      # kWh/ton\n",
        "income_per_energy = .28     # $/kWh\n",
        "max_storage = 500           # tons\n",
        "\n",
        "farms = 5\n",
        "quarters = 8\n",
        "\n",
        "productions = [\n",
        "    [700,   1500,   700,    0,  0,       700,    1500,   0],\n",
        "    [1350,  0,      450,    0,  1350,    0,      450,    0],\n",
        "    [0,     1500,   1500,   0,  0,       1500,   1500,   0],\n",
        "    [820,   1560,   820,    0,  820,     1560,   820,    0],\n",
        "    [0,     680,    1080,   0,  0,       680,    1080,   0]\n",
        "]\n",
        "\n",
        "matters = [\n",
        "    Matter(.20, .002, 15),\n",
        "    Matter(.18, .012, 28),\n",
        "    Matter(.19, .007, 35),\n",
        "    Matter(.21, .011, 37),\n",
        "    Matter(.23, .015, 42)\n",
        "]\n"
      ]
    },
    {
      "cell_type": "code",
      "execution_count": 3,
      "metadata": {},
      "outputs": [],
      "source": [
        "# Variables\n",
        "\n",
        "# Amount of matter stored into the silo per quarter.\n",
        "# Rows are quarters, columns are farms.\n",
        "silo = [[m.add_var() for _ in range(farms)] for _ in range(quarters)]\n",
        "# First row is full of zeros and represents the state of the silo before\n",
        "# the first quarter.\n",
        "silo.insert(0, [0. for _ in range(farms)])\n",
        "\n",
        "# Amount purchased for each farm and for each quarter.\n",
        "purchased = [[m.add_var() for _ in range(quarters)] for _ in range(farms)]\n",
        "\n",
        "# Amount used for each farm and for each quarter.\n",
        "used = [[m.add_var() for _ in range(quarters)] for _ in range(farms)]\n"
      ]
    },
    {
      "cell_type": "code",
      "execution_count": 4,
      "metadata": {},
      "outputs": [],
      "source": [
        "# Constraints\n",
        "\n",
        "for j in range(quarters):\n",
        "    # The maximum space inside the silo is 500 tons.\n",
        "    m.add_constr(mip.xsum(silo[j + 1]) <= max_storage)\n",
        "    # The used amount cannot produce more than the maximum legal production value.\n",
        "    m.add_constr(mip.xsum(f[j] for f in used) * energy_per_ton <= max_production)\n",
        "    # The dry matter percentage of the mix must be between 20% and 40%.\n",
        "    m.add_constr(\n",
        "        mip.xsum(used[f][j] * matters[f].dry_perc for f in range(farms)) >=\n",
        "        20 * mip.xsum(used[f][j] for f in range(farms)))\n",
        "    m.add_constr(\n",
        "        mip.xsum(used[f][j] * matters[f].dry_perc for f in range(farms)) <=\n",
        "        40 * mip.xsum(used[f][j] for f in range(farms)))\n",
        "    for i in range(farms):\n",
        "        # The purchased amount cannot go over the maximum farm production.\n",
        "        m.add_constr(purchased[i][j] <= productions[i][j])\n",
        "        # Purchased and not used matter must be stored into the silo.\n",
        "        m.add_constr(silo[j + 1][i] == silo[j][i] + purchased[i][j] - used[i][j])\n"
      ]
    },
    {
      "cell_type": "code",
      "execution_count": 5,
      "metadata": {},
      "outputs": [
        {
          "name": "stdout",
          "output_type": "stream",
          "text": [
            "Welcome to the CBC MILP Solver \n",
            "Version: Trunk\n",
            "Build Date: Oct 24 2021 \n",
            "\n",
            "Starting solution of the Linear programming problem using Dual Simplex\n",
            "\n",
            "Coin0506I Presolve 54 (-58) rows, 84 (-36) columns and 269 (-86) elements\n",
            "Clp0000I Optimal - objective value 2861373.9\n",
            "Coin0511I After Postsolve, objective 2861373.9, infeasibilities - dual 0 (0), primal 0 (0)\n",
            "Clp0032I Optimal objective 2861373.925 - 35 iterations time 0.002, Presolve 0.00\n"
          ]
        },
        {
          "data": {
            "text/plain": [
              "<OptimizationStatus.OPTIMAL: 0>"
            ]
          },
          "execution_count": 5,
          "metadata": {},
          "output_type": "execute_result"
        }
      ],
      "source": [
        "# Objective function\n",
        "\n",
        "# We want to maximize the revenue.\n",
        "m.objective = mip.maximize(\n",
        "    # Incomes from production\n",
        "    mip.xsum(used[i][j] for i in range(farms) for j in range(quarters)) * energy_per_ton * income_per_energy -\n",
        "    # Purchase of matter\n",
        "    mip.xsum(purchased[i][j] * matters[i].purchase for i in range(farms) for j in range(quarters)) -\n",
        "    # Storage cost\n",
        "    mip.xsum(silo[i + 1][j] * matters[j].storage for i in range(quarters) for j in range(farms))\n",
        ")\n",
        "# m.verbose = 0     # To reduce output from mip solver.\n",
        "m.optimize()\n"
      ]
    },
    {
      "cell_type": "code",
      "execution_count": 6,
      "metadata": {},
      "outputs": [
        {
          "name": "stdout",
          "output_type": "stream",
          "text": [
            "The maximum revenue is $ 2861373.9254127136.\n"
          ]
        }
      ],
      "source": [
        "# Results of optimization\n",
        "\n",
        "# Maximum revenue\n",
        "print(f'The maximum revenue is $ {m.objective_value}.')\n",
        "\n",
        "# Revenue per quarter\n",
        "revenue = [\n",
        "    sum(used[i][j].x for i in range(farms)) * energy_per_ton * income_per_energy -\n",
        "    sum(purchased[i][j].x * matters[i].purchase for i in range(farms)) -\n",
        "    sum(silo[j + 1][i].x * matters[i].storage for i in range(farms))\n",
        "    for j in range(quarters)\n",
        "]\n",
        "\n",
        "# Energy per quarter\n",
        "energy_per_quarter = [\n",
        "    sum(f[i].x for f in used) * energy_per_ton\n",
        "    for i in range(quarters)\n",
        "]\n",
        "\n",
        "# Percentage of dry matter per quarter\n",
        "percentages_result = [\n",
        "    sum(used[f][i].x * matters[f].dry_perc for f in range(farms)) /\n",
        "    sum(used[f][i].x for f in range(farms))\n",
        "    for i in range(quarters)\n",
        "]\n",
        "\n",
        "# Purchased amounts of matter per quarter and per farm\n",
        "purchased_result = [\n",
        "    [purchased[j][i].x for i in range(quarters)]\n",
        "    for j in range(farms)\n",
        "]\n",
        "\n",
        "# Used amounts of matter per quarter and per farm\n",
        "used_result = [\n",
        "    [used[j][i].x for i in range(quarters)]\n",
        "    for j in range(farms)\n",
        "]\n",
        "\n",
        "# Stored amounts of matter per quarter and per farm\n",
        "silo_result = [\n",
        "    [silo[i + 1][j].x for i in range(quarters)]\n",
        "    for j in range(farms)\n",
        "]\n"
      ]
    }
  ],
  "metadata": {
    "colab": {
      "provenance": []
    },
    "kernelspec": {
      "display_name": "Python 3.10.6 64-bit",
      "language": "python",
      "name": "python3"
    },
    "language_info": {
      "codemirror_mode": {
        "name": "ipython",
        "version": 3
      },
      "file_extension": ".py",
      "mimetype": "text/x-python",
      "name": "python",
      "nbconvert_exporter": "python",
      "pygments_lexer": "ipython3",
      "version": "3.10.6"
    },
    "vscode": {
      "interpreter": {
        "hash": "e7370f93d1d0cde622a1f8e1c04877d8463912d04d973331ad4851f04de6915a"
      }
    }
  },
  "nbformat": 4,
  "nbformat_minor": 0
}
