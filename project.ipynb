{
  "cells": [
    {
      "cell_type": "markdown",
      "metadata": {
        "id": "4MGTWLXgf2lu"
      },
      "source": [
        "## Biogas plant\n",
        "\n",
        "You want to plan the two-year supply of raw materials for a biogas power plant. Such a plant produces energy by burning biogas, which is obtained from the bacterial fermentation of organic wastes. \n",
        "Specifically, your plant is powered by corn chopping, a residual of agro-industrial operations that you can purchase from 5 local farms. \n",
        "The table below shows the quarterly capacity of each farm for the next two years. Quantities are measured in tons.\n",
        "\n",
        "Farm|T1|T2|T3|T4|T5|T6|T7|T8\n",
        ":-|:-:|:-:|:-:|:-:|:-:|:-:|:-:|:-:\n",
        "1|700|1500|700|0|0|700|1500|0\n",
        "2|1350|0|450|0|1350|0|450|0\n",
        "3|0|1500|1500|0|0|1500|1500|0\n",
        "4|820|1560|820|0|820|1560|820|0\n",
        "5|0|680|1080|0|0|680|1080|0\n",
        "\n",
        "Due to crop rotations and corn harvesting periods, farms are unable to supply material in some quarters. Moreover the types of corn chopping provided are different, each coming with its own unitary purchase price, unitary storage cost and percentage of dry matter. The table below shows a summary of these information.\n",
        "\n",
        "Farm|Purchase price|Storage cost|Dry matter\n",
        ":-|:-:|:-:|:-:\n",
        "1|0.20|0.002|15\n",
        "2|0.18|0.012|28\n",
        "3|0.19|0.007|35\n",
        "4|0.21|0.011|37\n",
        "5|0.23|0.015|42\n",
        "\n",
        "Your biogas plant must operate by burning a mixture of corn choppings with a dry matter percentage between 20% and 40%. Under these conditions, the yield is 421.6 kWh of energy per ton of burned material. The energy produced by the plant is sold on the market at a price of 0.28 $/kWh. \n",
        "\n",
        "Due to state regulations, all biogas plants can produce a maximum of 1950 MWh of energy per quarter. You are allowed to store corn chopping in a silo, whose total capacity is of 500 tons. \n",
        "\n",
        "Plan the supply and inventory of your biogas plant with the goal of maximizing your profits (i.e., revenues minus costs)."
      ]
    },
    {
      "cell_type": "code",
      "execution_count": 1,
      "metadata": {},
      "outputs": [],
      "source": [
        "class Matter:\n",
        "    def __init__(\n",
        "            self,\n",
        "            purchase: float,\n",
        "            storage: float,\n",
        "            dry_perc: int) -> None:\n",
        "        self.purchase = purchase\n",
        "        self.storage = storage\n",
        "        self.dry_perc = dry_perc\n",
        "\n",
        "    @property\n",
        "    def total_cost(self):\n",
        "        return self.purchase+self.storage"
      ]
    },
    {
      "cell_type": "code",
      "execution_count": 2,
      "metadata": {},
      "outputs": [],
      "source": [
        "import mip\n",
        "\n",
        "m = mip.Model()\n",
        "\n",
        "max_production = 1950000  # kWh/Quarter\n",
        "energy_per_ton = 421.6      # kWh/ton\n",
        "price_of_energy = 0.28      # $/kWh\n",
        "max_storage = 500           # ton\n",
        "\n",
        "farms = 5\n",
        "quarters = 8\n",
        "\n",
        "productions = [\n",
        "    [700,   1500,   700,    0,  0,       700,    1500,   0],\n",
        "    [1350,  0,      450,    0,  1350,    0,      450,    0],\n",
        "    [0,     1500,   1500,   0,  0,       1500,   1500,   0],\n",
        "    [820,   1560,   820,    0,  820,     1560,   820,    0],\n",
        "    [0,     680,    1080,   0,  0,       680,    1080,   0]\n",
        "]\n",
        "\n",
        "matters = [\n",
        "    Matter(0.20, 0.002, 15),\n",
        "    Matter(0.18, 0.012, 28),\n",
        "    Matter(0.19, 0.007, 35),\n",
        "    Matter(0.21, 0.011, 37),\n",
        "    Matter(0.23, 0.015, 42)\n",
        "]\n"
      ]
    },
    {
      "cell_type": "code",
      "execution_count": 3,
      "metadata": {},
      "outputs": [],
      "source": [
        "# Variables\n",
        "\n",
        "# Amount of material into the silo per quarter (first row is full of zeros\n",
        "# and represents the quarter before the first one).\n",
        "# Rows are quarters, columns are farms, the sum of a row is the total \n",
        "# amount inside the silo for a quarter.\n",
        "silo = [[m.add_var(var_type=mip.INTEGER) for _ in range(farms)]\n",
        "        for _ in range(quarters)]\n",
        "silo.insert(0, [0. for _ in range(farms)])\n",
        "\n",
        "# Amount taken for each farm and for each quarter\n",
        "taken = [[m.add_var(var_type=mip.INTEGER) for _ in range(quarters)]\n",
        "         for _ in range(farms)]\n",
        "\n",
        "# Amount used for each farm and for each quarter\n",
        "used = [[m.add_var(var_type=mip.INTEGER) for _ in range(quarters)] for _ in range(\n",
        "    farms)]            # rows are farms, columns are quarters\n",
        "\n"
      ]
    },
    {
      "cell_type": "code",
      "execution_count": 4,
      "metadata": {},
      "outputs": [],
      "source": [
        "# Constraints\n",
        "\n",
        "# The maximum space inside the silo is 500 tons.\n",
        "for i in range(quarters):\n",
        "    m.add_constr(mip.xsum(silo[i + 1]) <= max_storage)\n",
        "\n",
        "for i in range(farms):\n",
        "    for j in range(quarters):\n",
        "        # The maximum amount that can be bought cannot go over the maximum farm production.\n",
        "        m.add_constr(taken[i][j] <= productions[i][j])\n",
        "        # Not used material is stored into the silo.\n",
        "        m.add_constr(silo[j + 1][i] == silo[j][i] + taken[i][j] - used[i][j])\n",
        "\n",
        "# The used amount cannot produce more than the maximum legal production value.\n",
        "for i in range(quarters):\n",
        "    m.add_constr(mip.xsum(f[i] for f in used) * energy_per_ton <= max_production)\n",
        "\n",
        "# The mix should be between 20% and 40%.\n",
        "for i in range(quarters):\n",
        "    m.add_constr(mip.xsum(used[f][i] * matters[f].dry_perc for f in range(farms)) >= 20 * mip.xsum(used[f][i] for f in range(farms)))\n",
        "    m.add_constr(mip.xsum(used[f][i] * matters[f].dry_perc for f in range(farms)) <= 40 * mip.xsum(used[f][i] for f in range(farms)))"
      ]
    },
    {
      "cell_type": "code",
      "execution_count": 5,
      "metadata": {},
      "outputs": [
        {
          "name": "stdout",
          "output_type": "stream",
          "text": [
            "Welcome to the CBC MILP Solver \n",
            "Version: Trunk\n",
            "Build Date: Oct 24 2021 \n",
            "\n",
            "Starting solution of the Linear programming relaxation problem using Primal Simplex\n",
            "\n",
            "Coin0506I Presolve 51 (-61) rows, 84 (-36) columns and 256 (-99) elements\n",
            "Clp1000I sum of infeasibilities 5.38458e-14 - average 1.0558e-15, 14 fixed columns\n",
            "Coin0506I Presolve 43 (-8) rows, 62 (-22) columns and 185 (-71) elements\n",
            "Clp0029I End of values pass after 43 iterations\n",
            "Clp0014I Perturbing problem by 0.001% of 884.19702 - largest nonzero change 0 ( 0%) - largest zero change 2.8167904e-05\n",
            "Clp0000I Optimal - objective value 2861373.9\n",
            "Clp0000I Optimal - objective value 2861373.9\n",
            "Coin0511I After Postsolve, objective 2861373.9, infeasibilities - dual 0 (0), primal 0 (0)\n",
            "Clp0000I Optimal - objective value 2861373.9\n",
            "Clp0000I Optimal - objective value 2861373.9\n",
            "Clp0000I Optimal - objective value 2861373.9\n",
            "Coin0511I After Postsolve, objective 2861373.9, infeasibilities - dual 0 (0), primal 0 (0)\n",
            "Clp0032I Optimal objective 2861373.925 - 0 iterations time 0.002, Presolve 0.00, Idiot 0.00\n",
            "\n",
            "Starting MIP optimization\n",
            "Cgl0004I processed model has 51 rows, 84 columns (84 integer (0 of which binary)) and 256 elements\n",
            "Coin3009W Conflict graph built in 0.000 seconds, density: 0.000%\n",
            "Cgl0015I Clique Strengthening extended 0 cliques, 0 were dominated\n",
            "Cbc0045I Nauty did not find any useful orbits in time 0.000277\n",
            "Cbc0012I Integer solution of -2861318 found by DiveCoefficient after 0 iterations and 0 nodes (0.00 seconds)\n",
            "Cbc0011I Exiting as integer gap of 55.892413 less than 1e-10 or 0.01%\n",
            "Cbc0001I Search completed - best objective -2861318.033, took 0 iterations and 0 nodes (0.00 seconds)\n",
            "Cbc0035I Maximum depth 0, 0 variables fixed on reduced cost\n",
            "Total time (CPU seconds):       0.01   (Wallclock seconds):       0.01\n",
            "\n",
            "maximum revenue: 2861318.0330000003\n"
          ]
        }
      ],
      "source": [
        "# Objective function\n",
        "\n",
        "# We want to maximize the revenue.\n",
        "m.objective = mip.maximize(mip.xsum(used[i][j] for i in range(farms) for j in range(quarters)) * energy_per_ton * price_of_energy - mip.xsum(taken[i][j] * matters[i].purchase for i in range(farms) for j in range(quarters)) - mip.xsum(silo[i + 1][j] * matters[j].storage for i in range(quarters) for j in range(farms)))\n",
        "m.optimize()\n",
        "print('maximum revenue:', m.objective_value)\n",
        "\n",
        "# revenue = [(sum(used[i][j].x for i in range(farms)) * energy_per_ton * price_of_energy - sum(taken[i][j].x * matters[i].purchase for i in range(farms))) - sum(silo[j + 1][j].x * matters[i].storage for i in range(farms)) for j in range(quarters)]\n",
        "energy_per_quarter = [sum(f[i].x for f in used) * energy_per_ton for i in range(quarters)]\n",
        "percentages_result = [sum(used[f][i].x * matters[f].dry_perc for f in range(farms)) / sum(used[f][i].x for f in range(farms)) for i in range(quarters) if sum(used[f][i].x for f in range(farms)) > 0]\n",
        "taken_result = [[taken[j][i].x for i in range(quarters)] for j in range(farms)]\n",
        "used_result = [[used[j][i].x for i in range(quarters)] for j in range(farms)]\n",
        "silo_result = [[silo[i + 1][j].x for i in range(quarters)] for j in range(farms)]"
      ]
    }
  ],
  "metadata": {
    "colab": {
      "provenance": []
    },
    "kernelspec": {
      "display_name": "Python 3.10.6 64-bit",
      "language": "python",
      "name": "python3"
    },
    "language_info": {
      "codemirror_mode": {
        "name": "ipython",
        "version": 3
      },
      "file_extension": ".py",
      "mimetype": "text/x-python",
      "name": "python",
      "nbconvert_exporter": "python",
      "pygments_lexer": "ipython3",
      "version": "3.10.6"
    },
    "vscode": {
      "interpreter": {
        "hash": "e7370f93d1d0cde622a1f8e1c04877d8463912d04d973331ad4851f04de6915a"
      }
    }
  },
  "nbformat": 4,
  "nbformat_minor": 0
}
